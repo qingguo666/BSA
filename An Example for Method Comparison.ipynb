{
 "cells": [
  {
   "cell_type": "code",
   "execution_count": 1,
   "metadata": {},
   "outputs": [],
   "source": [
    "import numpy as np\n",
    "from numpy import random\n",
    "from random import sample \n",
    "import scipy\n",
    "from sklearn.metrics import pairwise_distances\n",
    "from scipy.stats import rankdata\n",
    "from scipy.stats import kendalltau\n",
    "from scipy.stats import pearsonr\n",
    "from scipy.stats import spearmanr\n",
    "import time\n",
    "from itertools import combinations "
   ]
  },
  {
   "cell_type": "code",
   "execution_count": 2,
   "metadata": {},
   "outputs": [],
   "source": [
    "from taupath import *"
   ]
  },
  {
   "cell_type": "code",
   "execution_count": 3,
   "metadata": {
    "code_folding": [
     0
    ]
   },
   "outputs": [],
   "source": [
    "def compute_step_add(X, ind, state, states, method):\n",
    "    row,col = X.shape\n",
    "    to_add = list(set(range(row)) - set(ind))\n",
    "    for add in to_add:\n",
    "        new_ind = sorted(ind+[add])\n",
    "        idx = ','.join([str(ii) for ii in new_ind])\n",
    "        if idx in states:\n",
    "            continue\n",
    "        states[idx] = compute_score_add(X,ind,add,state,method)\n",
    "        "
   ]
  },
  {
   "cell_type": "code",
   "execution_count": 4,
   "metadata": {
    "code_folding": [
     0
    ]
   },
   "outputs": [],
   "source": [
    "def compute_step_del(X, ind, state, states, method):\n",
    "    row,col = X.shape\n",
    "    to_del = list(ind)\n",
    "    for d in to_del:\n",
    "        new_ind = ind.copy()\n",
    "        new_ind.remove(d)\n",
    "        idx = ','.join([str(ii) for ii in new_ind])\n",
    "        if idx in states:\n",
    "            continue\n",
    "        states[idx] = compute_score_del(X,ind,d,state,method)"
   ]
  },
  {
   "cell_type": "code",
   "execution_count": 5,
   "metadata": {
    "code_folding": [
     0
    ]
   },
   "outputs": [],
   "source": [
    "def forward_select(X,low,method):\n",
    "    row,col = X.shape\n",
    "    for step in range(3,low+1):\n",
    "        states = dict()\n",
    "        if step == 3:\n",
    "            comb = combinations(range(row), step)\n",
    "            for ind in comb:\n",
    "                ind = sorted(ind)\n",
    "                idx = ','.join([str(ii) for ii in ind])\n",
    "                states[idx] = compute_score_initial(X,ind,method)\n",
    "        else:\n",
    "            for idx,state in cand.items():\n",
    "                ind = [int(i) for i in idx.split(',')]\n",
    "                compute_step_add (X, ind, state, states, method)\n",
    "        score = [v.score for k,v in states.items()]\n",
    "        best_score = max(score)   \n",
    "        cand = dict()\n",
    "        for k,v in states.items():\n",
    "            if v.score==best_score: cand[k] = v\n",
    "    for k,v in cand.items():\n",
    "        print(\"Forward_Subpopulation:\",k,\"Best Score:\",v.score)\n",
    "    return cand         "
   ]
  },
  {
   "cell_type": "code",
   "execution_count": 6,
   "metadata": {
    "code_folding": [
     0
    ]
   },
   "outputs": [],
   "source": [
    "def backward_select(X,low,method):\n",
    "    row,col = X.shape\n",
    "    h = row\n",
    "    for step in range(h,low-1,-1):\n",
    "        states = dict()\n",
    "        if step == h:\n",
    "            ind = list(range(h))\n",
    "            idx = ','.join([str(ii) for ii in ind])\n",
    "            states[idx] = compute_score_initial(X,ind,method)\n",
    "        else:\n",
    "            for idx,state in cand.items():\n",
    "                ind = [int(i) for i in idx.split(',')]\n",
    "                compute_step_del (X, ind, state, states, method)\n",
    "        score = [v.score for k,v in states.items()]\n",
    "        best_score = max(score)   \n",
    "        cand = dict()\n",
    "        for k,v in states.items():\n",
    "            if v.score==best_score: cand[k] = v\n",
    "        if step < low: break   \n",
    "    for k,v in cand.items():\n",
    "        print(\"Backward_Subpopulation:\",k,\"Best Score:\",v.score)\n",
    "    return cand"
   ]
  },
  {
   "cell_type": "code",
   "execution_count": 7,
   "metadata": {},
   "outputs": [],
   "source": [
    "# li1 = [1,2,3]\n",
    "# li2 = [2,3,4,5,]\n",
    "def Diff(li2, li1):\n",
    "    return (list(list(set(li1)-set(li2))))\n",
    "#Diff(li2,li1)"
   ]
  },
  {
   "cell_type": "markdown",
   "metadata": {},
   "source": [
    "# Simulation"
   ]
  },
  {
   "cell_type": "markdown",
   "metadata": {},
   "source": [
    "# N=30, P=50"
   ]
  },
  {
   "cell_type": "markdown",
   "metadata": {},
   "source": [
    "We compute True Positive ratio for each method"
   ]
  },
  {
   "cell_type": "code",
   "execution_count": 9,
   "metadata": {},
   "outputs": [
    {
     "name": "stdout",
     "output_type": "stream",
     "text": [
      "propotion: 0.3 Rho: 0.8 Method: Pearson Sample1: 9\n",
      "Forward_Subpopulation: 0,1,2,4,5,6,7,8,19 Best Score: 0.5401814058956909\n",
      "Backward_Subpopulation: 0,1,2,4,5,6,7,8,19 Best Score: 0.5401814058956909\n"
     ]
    },
    {
     "name": "stderr",
     "output_type": "stream",
     "text": [
      "/home/qguo0701/Projects/Tau-path/taupath.py:336: VisibleDeprecationWarning: Creating an ndarray from ragged nested sequences (which is a list-or-tuple of lists-or-tuples-or ndarrays with different lengths or shapes) is deprecated. If you meant to do this, you must specify 'dtype=object' when creating the ndarray\n",
      "  out = np.array(cand)[np.where([sc == score[0] for sc in score])[0]]\n"
     ]
    },
    {
     "name": "stdout",
     "output_type": "stream",
     "text": [
      "GA_Subpopulation: [[0, 1, 2, 4, 5, 6, 7, 8, 19]] Best Score: 0.5401814058956909\n",
      "Forward_TT: 0.8888888888888888\n",
      "Backward_TT: 0.8888888888888888\n",
      "GA_TT: 0.8888888888888888\n",
      "propotion: 0.3 Rho: 0.8 Method: Kendall Sample1: 9\n",
      "Forward_Subpopulation: 0,1,2,3,4,5,6,7,8 Best Score: 0.7151927437641705\n",
      "Backward_Subpopulation: 0,1,2,3,4,5,6,7,8 Best Score: 0.7151927437641705\n"
     ]
    },
    {
     "name": "stderr",
     "output_type": "stream",
     "text": [
      "/home/qguo0701/Projects/Tau-path/taupath.py:336: VisibleDeprecationWarning: Creating an ndarray from ragged nested sequences (which is a list-or-tuple of lists-or-tuples-or ndarrays with different lengths or shapes) is deprecated. If you meant to do this, you must specify 'dtype=object' when creating the ndarray\n",
      "  out = np.array(cand)[np.where([sc == score[0] for sc in score])[0]]\n"
     ]
    },
    {
     "name": "stdout",
     "output_type": "stream",
     "text": [
      "GA_Subpopulation: [[0, 1, 2, 3, 4, 5, 6, 7, 8]] Best Score: 0.7151927437641705\n",
      "Forward_TT: 1.0\n",
      "Backward_TT: 1.0\n",
      "GA_TT: 1.0\n"
     ]
    }
   ],
   "source": [
    "N = 30\n",
    "for method in ['Pearson','Kendall']:\n",
    "#     for prop in [0.3,0.5,0.8]:\n",
    "#         for rho in [0.3,0.5,0.8]:\n",
    "    for prop in [0.3]:\n",
    "        for rho in [0.8]:\n",
    "            n1 = int(N*prop)\n",
    "            n2 = int(N*(1-prop))\n",
    "            p = 50\n",
    "            mean = [0]*p\n",
    "#             cov = [[1, rho,rho,rho,rho], [rho, 1,rho,rho,rho],[rho,rho,1,rho,rho],[rho,rho,rho,1,rho],[rho,rho,rho,rho,1]] \n",
    "            cov = np.full((p, p), rho)\n",
    "            np.fill_diagonal(cov, 1)\n",
    "            q1 = np.random.multivariate_normal(mean, cov, n1)\n",
    "            mean2 = [0]*p\n",
    "            cov2 = np.identity(p)\n",
    "            q2 = np.random.multivariate_normal(mean2, cov2, n2)\n",
    "            q = np.concatenate((q1, q2), axis=0)\n",
    "            low=n1\n",
    "            print(\"propotion:\",prop, \"Rho:\",rho,\"Method:\", method,\"Sample1:\",n1)\n",
    "            f = forward_select(q,low,method)\n",
    "            b = backward_select(q,low,method)\n",
    "            ga_pop, ga_score = sub_pop_state(q,cand_size=1000,low=low,high=low+3,top=50,kp=100,rep=150,method=method)\n",
    "            for k,v in f.items():\n",
    "                a = list(eval(k))\n",
    "                print('Forward_TT:',1-(len(Diff(a,range(n1)))/n1))\n",
    "\n",
    "            for k,v in b.items():\n",
    "                a = list(eval(k))\n",
    "                print('Backward_TT:',1-(len(Diff(a,range(n1)))/n1))\n",
    "\n",
    "            for k in ga_pop:\n",
    "                print('GA_TT:',1-(len(Diff(k,range(n1)))/n1))\n"
   ]
  },
  {
   "cell_type": "code",
   "execution_count": null,
   "metadata": {},
   "outputs": [],
   "source": []
  }
 ],
 "metadata": {
  "kernelspec": {
   "display_name": "Python 3",
   "language": "python",
   "name": "python3"
  },
  "language_info": {
   "codemirror_mode": {
    "name": "ipython",
    "version": 3
   },
   "file_extension": ".py",
   "mimetype": "text/x-python",
   "name": "python",
   "nbconvert_exporter": "python",
   "pygments_lexer": "ipython3",
   "version": "3.7.9"
  }
 },
 "nbformat": 4,
 "nbformat_minor": 2
}
